{
 "cells": [
  {
   "cell_type": "markdown",
   "metadata": {},
   "source": [
    "# Initialisation"
   ]
  },
  {
   "cell_type": "code",
   "execution_count": 1,
   "metadata": {},
   "outputs": [],
   "source": [
    "import pandas as pd\n",
    "import time\n",
    "import numpy as np\n",
    "import NLP_Utils as NU\n",
    "from ReceipeAnalyzer import ReceipeAnalyzer"
   ]
  },
  {
   "cell_type": "code",
   "execution_count": 2,
   "metadata": {
    "colab": {},
    "colab_type": "code",
    "id": "jpYmgHSpHX1X"
   },
   "outputs": [],
   "source": [
    "cal_to_J = 4.184\n",
    "J_to_cal = 1/cal_to_J"
   ]
  },
  {
   "cell_type": "code",
   "execution_count": 23,
   "metadata": {
    "colab": {
     "base_uri": "https://localhost:8080/",
     "height": 259
    },
    "colab_type": "code",
    "executionInfo": {
     "elapsed": 93790,
     "status": "ok",
     "timestamp": 1565000349222,
     "user": {
      "displayName": "Mickael Tits",
      "photoUrl": "",
      "userId": "16831298815026516305"
     },
     "user_tz": -120
    },
    "id": "viY5twy-v4cL",
    "outputId": "20725eb2-80ab-4662-fa6f-2e2d20a95a5c"
   },
   "outputs": [],
   "source": [
    "#The file is about 2.1Go, it might take a few minutes to download\n",
    "#-nc can be used to avoid downloading the file if it is already present\n",
    "#Note: this line only works on a linux kernel. You can download the file manually\n",
    "#!wget -nc \"https://fr.openfoodfacts.org/data/fr.openfoodfacts.org.products.csv\""
   ]
  },
  {
   "cell_type": "markdown",
   "metadata": {
    "colab_type": "text",
    "id": "VV5zdfzgv4b_"
   },
   "source": [
    "# Load data"
   ]
  },
  {
   "cell_type": "code",
   "execution_count": 24,
   "metadata": {
    "colab": {
     "base_uri": "https://localhost:8080/",
     "height": 111
    },
    "colab_type": "code",
    "executionInfo": {
     "elapsed": 86920,
     "status": "ok",
     "timestamp": 1565006219164,
     "user": {
      "displayName": "Mickael Tits",
      "photoUrl": "",
      "userId": "16831298815026516305"
     },
     "user_tz": -120
    },
    "id": "Gs1fbpKP5WNE",
    "outputId": "dc4a862d-962c-4463-d1e9-b4bb67a823f5"
   },
   "outputs": [
    {
     "name": "stderr",
     "output_type": "stream",
     "text": [
      "C:\\Users\\mti\\Miniconda3\\envs\\walecities\\lib\\site-packages\\IPython\\core\\interactiveshell.py:3058: DtypeWarning: Columns (0,24,25,26,28,44,49) have mixed types. Specify dtype option on import or set low_memory=False.\n",
      "  interactivity=interactivity, compiler=compiler, result=result)\n"
     ]
    },
    {
     "name": "stdout",
     "output_type": "stream",
     "text": [
      "elapsed:  32.1418514251709\n"
     ]
    },
    {
     "data": {
      "text/plain": [
       "(1120758, 178)"
      ]
     },
     "execution_count": 24,
     "metadata": {},
     "output_type": "execute_result"
    }
   ],
   "source": [
    "t = time.time()\n",
    "\n",
    "food = pd.read_csv(\"fr.openfoodfacts.org.products.csv\", delimiter = \"\\t\")\n",
    "print(\"elapsed: \", time.time() - t)\n",
    "food.shape"
   ]
  },
  {
   "cell_type": "markdown",
   "metadata": {},
   "source": [
    "# Analysis"
   ]
  },
  {
   "cell_type": "code",
   "execution_count": 26,
   "metadata": {},
   "outputs": [
    {
     "data": {
      "text/plain": [
       "(229799, 1172)"
      ]
     },
     "execution_count": 26,
     "metadata": {},
     "output_type": "execute_result"
    }
   ],
   "source": [
    "food.energy_100g.isna().sum(), (food.energy_100g > 1000*cal_to_J).sum()"
   ]
  },
  {
   "cell_type": "code",
   "execution_count": 27,
   "metadata": {},
   "outputs": [],
   "source": [
    "nansum = food.isna().sum()"
   ]
  },
  {
   "cell_type": "code",
   "execution_count": 28,
   "metadata": {},
   "outputs": [
    {
     "name": "stdout",
     "output_type": "stream",
     "text": [
      "number of missing energy information: 229799 (20%)\n",
      "number of missing energy information: 1172 (0.105%)\n",
      "number of empty cells: 157884457\n",
      "number of cells: 199494924\n",
      "ratio of empty cells: 79%\n"
     ]
    }
   ],
   "source": [
    "print('number of missing energy information: %d (%d%%)' % (food.energy_100g.isna().sum(), food.energy_100g.isna().sum()/len(food)*100 ) )\n",
    "print('number of missing energy information: %d (%.3f%%)' % ((food.energy_100g > 1000*cal_to_J).sum(), (food.energy_100g > 1000*cal_to_J).sum()/len(food)*100 ) )\n",
    "print('number of empty cells: %d' % nansum.sum())\n",
    "print('number of cells: %d' % np.prod(food.shape))\n",
    "print('ratio of empty cells: %d%%' % (nansum.sum()/np.prod(food.shape)*100))"
   ]
  },
  {
   "cell_type": "code",
   "execution_count": 29,
   "metadata": {},
   "outputs": [
    {
     "data": {
      "text/plain": [
       "1120758"
      ]
     },
     "execution_count": 29,
     "metadata": {},
     "output_type": "execute_result"
    }
   ],
   "source": [
    "len(food)"
   ]
  },
  {
   "cell_type": "code",
   "execution_count": 24,
   "metadata": {},
   "outputs": [
    {
     "data": {
      "text/plain": [
       "<matplotlib.axes._subplots.AxesSubplot at 0x1cba6cba4c8>"
      ]
     },
     "execution_count": 24,
     "metadata": {},
     "output_type": "execute_result"
    },
    {
     "data": {
      "image/png": "[encoded data removed]",
      "text/plain": [
       "<Figure size 432x288 with 1 Axes>"
      ]
     },
     "metadata": {
      "needs_background": "light"
     },
     "output_type": "display_data"
    }
   ],
   "source": [
    "nansum.hist()"
   ]
  },
  {
   "cell_type": "code",
   "execution_count": 28,
   "metadata": {},
   "outputs": [
    {
     "data": {
      "text/plain": [
       "<matplotlib.axes._subplots.AxesSubplot at 0x1cba6e3a908>"
      ]
     },
     "execution_count": 28,
     "metadata": {},
     "output_type": "execute_result"
    },
    {
     "data": {
      "image/png": "[encoded data removed]",
      "text/plain": [
       "<Figure size 2160x360 with 1 Axes>"
      ]
     },
     "metadata": {
      "needs_background": "light"
     },
     "output_type": "display_data"
    }
   ],
   "source": [
    "%matplotlib inline\n",
    "nansum.plot.bar(figsize = (30,5))"
   ]
  },
  {
   "cell_type": "code",
   "execution_count": 30,
   "metadata": {},
   "outputs": [
    {
     "data": {
      "text/plain": [
       "112"
      ]
     },
     "execution_count": 30,
     "metadata": {},
     "output_type": "execute_result"
    }
   ],
   "source": [
    "#Count empty columns\n",
    "L = len(food)\n",
    "(nansum >= 0.9*L).sum()"
   ]
  },
  {
   "cell_type": "code",
   "execution_count": 54,
   "metadata": {},
   "outputs": [
    {
     "data": {
      "text/html": [
       "<div>\n",
       "<style scoped>\n",
       "    .dataframe tbody tr th:only-of-type {\n",
       "        vertical-align: middle;\n",
       "    }\n",
       "\n",
       "    .dataframe tbody tr th {\n",
       "        vertical-align: top;\n",
       "    }\n",
       "\n",
       "    .dataframe thead th {\n",
       "        text-align: right;\n",
       "    }\n",
       "</style>\n",
       "<table border=\"1\" class=\"dataframe\">\n",
       "  <thead>\n",
       "    <tr style=\"text-align: right;\">\n",
       "      <th></th>\n",
       "      <th>product_name</th>\n",
       "      <th>energy_100g</th>\n",
       "    </tr>\n",
       "  </thead>\n",
       "  <tbody>\n",
       "    <tr>\n",
       "      <th>1</th>\n",
       "      <td>Cacao</td>\n",
       "      <td>NaN</td>\n",
       "    </tr>\n",
       "    <tr>\n",
       "      <th>2</th>\n",
       "      <td>Filetes de pollo empanado</td>\n",
       "      <td>NaN</td>\n",
       "    </tr>\n",
       "    <tr>\n",
       "      <th>4</th>\n",
       "      <td>Sfiudwx</td>\n",
       "      <td>NaN</td>\n",
       "    </tr>\n",
       "    <tr>\n",
       "      <th>7</th>\n",
       "      <td>Pistou d'ail des ours</td>\n",
       "      <td>NaN</td>\n",
       "    </tr>\n",
       "    <tr>\n",
       "      <th>8</th>\n",
       "      <td>Pain maïs</td>\n",
       "      <td>NaN</td>\n",
       "    </tr>\n",
       "    <tr>\n",
       "      <th>9</th>\n",
       "      <td>Mendiants</td>\n",
       "      <td>NaN</td>\n",
       "    </tr>\n",
       "    <tr>\n",
       "      <th>10</th>\n",
       "      <td>Sachet calisson</td>\n",
       "      <td>NaN</td>\n",
       "    </tr>\n",
       "    <tr>\n",
       "      <th>11</th>\n",
       "      <td>Pate d'amende</td>\n",
       "      <td>NaN</td>\n",
       "    </tr>\n",
       "    <tr>\n",
       "      <th>14</th>\n",
       "      <td>NaN</td>\n",
       "      <td>NaN</td>\n",
       "    </tr>\n",
       "    <tr>\n",
       "      <th>15</th>\n",
       "      <td>Vainilla</td>\n",
       "      <td>NaN</td>\n",
       "    </tr>\n",
       "  </tbody>\n",
       "</table>\n",
       "</div>"
      ],
      "text/plain": [
       "                 product_name  energy_100g\n",
       "1                       Cacao          NaN\n",
       "2   Filetes de pollo empanado          NaN\n",
       "4                     Sfiudwx          NaN\n",
       "7       Pistou d'ail des ours          NaN\n",
       "8                   Pain maïs          NaN\n",
       "9                   Mendiants          NaN\n",
       "10            Sachet calisson          NaN\n",
       "11              Pate d'amende          NaN\n",
       "14                        NaN          NaN\n",
       "15                   Vainilla          NaN"
      ]
     },
     "execution_count": 54,
     "metadata": {},
     "output_type": "execute_result"
    }
   ],
   "source": [
    "food[food.energy_100g.isna()][['product_name','energy_100g']].head(10)"
   ]
  },
  {
   "cell_type": "code",
   "execution_count": 55,
   "metadata": {},
   "outputs": [
    {
     "data": {
      "text/plain": [
       "(157884457, 0.7914209235719701)"
      ]
     },
     "execution_count": 55,
     "metadata": {},
     "output_type": "execute_result"
    }
   ],
   "source": [
    "#Total number of empty cells\n",
    "totnans = nansum.sum()\n",
    "totcells = np.prod(food.shape)\n",
    "totnans, totnans/totcells"
   ]
  },
  {
   "cell_type": "code",
   "execution_count": 56,
   "metadata": {},
   "outputs": [
    {
     "data": {
      "text/html": [
       "<div>\n",
       "<style scoped>\n",
       "    .dataframe tbody tr th:only-of-type {\n",
       "        vertical-align: middle;\n",
       "    }\n",
       "\n",
       "    .dataframe tbody tr th {\n",
       "        vertical-align: top;\n",
       "    }\n",
       "\n",
       "    .dataframe thead th {\n",
       "        text-align: right;\n",
       "    }\n",
       "</style>\n",
       "<table border=\"1\" class=\"dataframe\">\n",
       "  <thead>\n",
       "    <tr style=\"text-align: right;\">\n",
       "      <th></th>\n",
       "      <th>product_name</th>\n",
       "      <th>energy_100g</th>\n",
       "    </tr>\n",
       "  </thead>\n",
       "  <tbody>\n",
       "    <tr>\n",
       "      <th>886</th>\n",
       "      <td>Complete breakfast smoothie</td>\n",
       "      <td>6213.0</td>\n",
       "    </tr>\n",
       "    <tr>\n",
       "      <th>1346</th>\n",
       "      <td>Le Fromage de Margot</td>\n",
       "      <td>5393.0</td>\n",
       "    </tr>\n",
       "    <tr>\n",
       "      <th>1821</th>\n",
       "      <td>Fruit  d'Or 100% végétal</td>\n",
       "      <td>12372.0</td>\n",
       "    </tr>\n",
       "    <tr>\n",
       "      <th>2116</th>\n",
       "      <td>Ginger Candy Sweetened With Raw Cane</td>\n",
       "      <td>4435.0</td>\n",
       "    </tr>\n",
       "    <tr>\n",
       "      <th>2174</th>\n",
       "      <td>Slim fast KETO meal shake</td>\n",
       "      <td>39748.0</td>\n",
       "    </tr>\n",
       "    <tr>\n",
       "      <th>3047</th>\n",
       "      <td>Natural walnut and almond with dried cherries</td>\n",
       "      <td>5977.0</td>\n",
       "    </tr>\n",
       "    <tr>\n",
       "      <th>3233</th>\n",
       "      <td>The Original Malted Milk Balls</td>\n",
       "      <td>6276.0</td>\n",
       "    </tr>\n",
       "    <tr>\n",
       "      <th>7304</th>\n",
       "      <td>Traditional Dusseldorf Mustard</td>\n",
       "      <td>5690.0</td>\n",
       "    </tr>\n",
       "    <tr>\n",
       "      <th>11914</th>\n",
       "      <td>Percy pig</td>\n",
       "      <td>6096.0</td>\n",
       "    </tr>\n",
       "    <tr>\n",
       "      <th>12258</th>\n",
       "      <td>Bellavitano, Merlot Cheese</td>\n",
       "      <td>7020.0</td>\n",
       "    </tr>\n",
       "  </tbody>\n",
       "</table>\n",
       "</div>"
      ],
      "text/plain": [
       "                                        product_name  energy_100g\n",
       "886                      Complete breakfast smoothie       6213.0\n",
       "1346                            Le Fromage de Margot       5393.0\n",
       "1821                        Fruit  d'Or 100% végétal      12372.0\n",
       "2116            Ginger Candy Sweetened With Raw Cane       4435.0\n",
       "2174                       Slim fast KETO meal shake      39748.0\n",
       "3047   Natural walnut and almond with dried cherries       5977.0\n",
       "3233                  The Original Malted Milk Balls       6276.0\n",
       "7304                  Traditional Dusseldorf Mustard       5690.0\n",
       "11914                                      Percy pig       6096.0\n",
       "12258                     Bellavitano, Merlot Cheese       7020.0"
      ]
     },
     "execution_count": 56,
     "metadata": {},
     "output_type": "execute_result"
    }
   ],
   "source": [
    "food[food.energy_100g > 1000*cal_to_J][['product_name','energy_100g']].head(10)"
   ]
  },
  {
   "cell_type": "markdown",
   "metadata": {
    "colab_type": "text",
    "id": "YqysuNlFv4cT"
   },
   "source": [
    "# Pre-processing\n",
    "* Remove some invalid values (such as energy_100g values)\n",
    "* Remove non alpha-numeric items\n",
    "* Convert nutri-score to numeric scale (allowing statistical aggregation)"
   ]
  },
  {
   "cell_type": "code",
   "execution_count": 31,
   "metadata": {},
   "outputs": [
    {
     "name": "stdout",
     "output_type": "stream",
     "text": [
      "['no_nutriments', 'nutriscore_score', 'nutriscore_grade', 'image_nutrition_url', 'image_nutrition_small_url', 'nutrition-score-fr_100g', 'nutrition-score-uk_100g']\n"
     ]
    }
   ],
   "source": [
    "#find columns related to nutriscore\n",
    "print([f for f in food.columns if 'nutri' in f])"
   ]
  },
  {
   "cell_type": "code",
   "execution_count": 32,
   "metadata": {
    "colab": {},
    "colab_type": "code",
    "id": "3KUK1nVQv4cW"
   },
   "outputs": [
    {
     "name": "stdout",
     "output_type": "stream",
     "text": [
      "890959\n",
      "889707\n",
      "837463\n"
     ]
    }
   ],
   "source": [
    "#%% remove entries with nans in energy_100g\n",
    "food = food[(food.energy_100g.notnull()) & ~food.energy_100g.isna()]\n",
    "print(len(food))\n",
    "#%% remove invalid energy data (> 1000 Kcal)\n",
    "food = food[food.energy_100g < 1000*cal_to_J]\n",
    "print(len(food))\n",
    "#%% lowercase product names\n",
    "food['product_name'] = food['product_name'].str.lower()\n",
    "\n",
    "#%% remove null/nan and non-ascii/french names\n",
    "#note: \\x00-\\x7F stands for ascii characters, to which we add french characters àâéêèìôùûç\n",
    "food = food[~food['product_name'].str.contains(r'[^àâéêèìôùûç\\x00-\\x7F]+', na=False)]\n",
    "food = food[~food['product_name'].isna()]\n",
    "print(len(food))\n",
    "\n",
    "#This processing would be too permissive, allowing items such as: 意式番茄味 创意花式薯卷 🍇 raisin sultanine\n",
    "#food = food[~food['product_name'].str.isalnum()]\n",
    "\n",
    "#%% convert nutri-score grades (letters A to E) to numbers (1 to 5)\n",
    "def convertnutriscore(grade):\n",
    "    return {\n",
    "        'a': 1,\n",
    "        'A': 1,\n",
    "        'b': 2,\n",
    "        'B': 2,\n",
    "        'c' : 3,\n",
    "        'C': 3,\n",
    "        'd' : 4,\n",
    "        'D': 4,\n",
    "        'e' : 5,\n",
    "        'E': 5\n",
    "    }.get(grade, grade)\n",
    "\n",
    "food['nutriscore_grade'] = food.nutriscore_grade.apply(convertnutriscore)"
   ]
  },
  {
   "cell_type": "markdown",
   "metadata": {
    "colab_type": "text",
    "id": "V7C76Gqhv4cc"
   },
   "source": [
    "# Keep only products from some countries"
   ]
  },
  {
   "cell_type": "code",
   "execution_count": 33,
   "metadata": {
    "colab": {},
    "colab_type": "code",
    "id": "8VYu0Tg4v4cd"
   },
   "outputs": [],
   "source": [
    "searchfor = ['France', 'Belgique', 'Suisse']\n",
    "#searchfor = ['Belgique']\n",
    "food = food[food['countries'].str.contains('|'.join(searchfor), na=False)]"
   ]
  },
  {
   "cell_type": "code",
   "execution_count": 34,
   "metadata": {},
   "outputs": [
    {
     "data": {
      "text/plain": [
       "391017"
      ]
     },
     "execution_count": 34,
     "metadata": {},
     "output_type": "execute_result"
    }
   ],
   "source": [
    "len(food)"
   ]
  },
  {
   "cell_type": "code",
   "execution_count": 35,
   "metadata": {},
   "outputs": [],
   "source": [
    "#force single type for each column\n",
    "\n",
    "food2 = food.copy()\n",
    "\n",
    "for c in food2.columns:\n",
    "    #coltype = food2[c].dtype\n",
    "    \n",
    "    #get type of first valid value of the column\n",
    "    try:\n",
    "        coltype = type(food2[c].dropna().iloc[0])\n",
    "    except IndexError as e:\n",
    "        #column is composed on only invalid values\n",
    "        coltype = float\n",
    "    \n",
    "    food2[c] = food2[c].astype(coltype)\n",
    "    #food[c] = food[c].astype('O')"
   ]
  },
  {
   "cell_type": "code",
   "execution_count": 64,
   "metadata": {},
   "outputs": [],
   "source": [
    "food2.to_parquet('openfoodfacts_subset.parquet', compression = 'GZIP')"
   ]
  },
  {
   "cell_type": "code",
   "execution_count": 39,
   "metadata": {},
   "outputs": [
    {
     "name": "stdout",
     "output_type": "stream",
     "text": [
      "elapsed:  10.26102590560913\n"
     ]
    }
   ],
   "source": [
    "t = time.time()\n",
    "food = pd.read_parquet('openfoodfacts_subset.parquet')\n",
    "print(\"elapsed: \", time.time() - t)"
   ]
  },
  {
   "cell_type": "markdown",
   "metadata": {
    "colab_type": "text",
    "id": "R9O18gROv4ch"
   },
   "source": [
    "# Process names"
   ]
  },
  {
   "cell_type": "code",
   "execution_count": 40,
   "metadata": {},
   "outputs": [
    {
     "data": {
      "text/plain": [
       "['carotte rapee',\n",
       " 'carotte rapee',\n",
       " 'cheval',\n",
       " 'cheval',\n",
       " 'cheval',\n",
       " 'cheval',\n",
       " 'viande cheval',\n",
       " 'jambon os',\n",
       " 'souris agneau']"
      ]
     },
     "execution_count": 40,
     "metadata": {},
     "output_type": "execute_result"
    }
   ],
   "source": [
    "stopwords = ['de','du','le','les','aux','la','des', 'a', 'une', 'un', 'au','g','gr','gramme','grammes','kg','kilo','kilos','kilogramme','kilogrammes','d','l']\n",
    "unit_tests = [\"Carottes râpées\", \"CAROTTE RAPEE 150gr\", 'chevaux','150gr de cheval', 'cheval 200 grammes', '100% cheval', 'viande de cheval', \"jambon à l'os\", \"souris d'agneau\"]\n",
    "\n",
    "[NU.preprocess_string(s, stopwords = stopwords) for s in unit_tests]\n"
   ]
  },
  {
   "cell_type": "code",
   "execution_count": 43,
   "metadata": {},
   "outputs": [],
   "source": [
    "#preprocess product names: keep only alphabetic characters\n",
    "preprocess = lambda x: NU.preprocess_string(x, stopwords = stopwords)\n",
    "food = food.assign(processed_name = food.product_name.apply(preprocess))\n",
    "\n",
    "#remove products with empty names\n",
    "food = food[food.processed_name != '']\n",
    "#food[['processed_name','product_name']]"
   ]
  },
  {
   "cell_type": "markdown",
   "metadata": {
    "colab_type": "text",
    "id": "rrjGKhOwv4cp",
    "toc-hr-collapsed": false
   },
   "source": [
    "# Extraction des produits usuels\n",
    "* on applique un seuil sur les noms de produits rencontrés plusieurs fois (pour virer les produits très rares)"
   ]
  },
  {
   "cell_type": "code",
   "execution_count": 46,
   "metadata": {
    "colab": {},
    "colab_type": "code",
    "id": "08Ip8YLLv4cv"
   },
   "outputs": [
    {
     "data": {
      "text/plain": [
       "131509"
      ]
     },
     "execution_count": 46,
     "metadata": {},
     "output_type": "execute_result"
    }
   ],
   "source": [
    "#différents produits\n",
    "distinctproducts = food.processed_name.value_counts()\n",
    "\n",
    "#produits non-usuels\n",
    "threshunusual = 5\n",
    "unusualproducts=distinctproducts[distinctproducts < threshunusual]\n",
    "usualproducts = distinctproducts[distinctproducts >= threshunusual]\n",
    "\n",
    "#print(unusualproducts)\n",
    "\n",
    "#%% keep only usual products\n",
    "\n",
    "usualfood = food[food.processed_name.isin(usualproducts.index)]\n",
    "\n",
    "len(usualfood)"
   ]
  },
  {
   "cell_type": "markdown",
   "metadata": {
    "colab_type": "text",
    "id": "U1Hmrcp6v4c7"
   },
   "source": [
    "# Extraction de compositions médianes\n",
    "* permet de filtrer le bruit\n",
    "* permet de minimiser les Nan et d'obtenir un maximum d'infos sur un produit"
   ]
  },
  {
   "cell_type": "code",
   "execution_count": 47,
   "metadata": {
    "colab": {},
    "colab_type": "code",
    "id": "RvXvl2zFv4c-"
   },
   "outputs": [
    {
     "data": {
      "text/plain": [
       "(8470, 228649)"
      ]
     },
     "execution_count": 47,
     "metadata": {},
     "output_type": "execute_result"
    }
   ],
   "source": [
    "medianfacts = usualfood.groupby('processed_name').median()\n",
    "allmedianfacts = food.groupby('processed_name').median()\n",
    "\n",
    "len(medianfacts), len(allmedianfacts)"
   ]
  },
  {
   "cell_type": "code",
   "execution_count": 48,
   "metadata": {
    "colab": {},
    "colab_type": "code",
    "id": "pLjwUz4Xy7iA"
   },
   "outputs": [
    {
     "name": "stderr",
     "output_type": "stream",
     "text": [
      "C:\\Users\\mti\\Miniconda3\\envs\\walecities\\lib\\site-packages\\ipykernel_launcher.py:5: SettingWithCopyWarning: \n",
      "A value is trying to be set on a copy of a slice from a DataFrame.\n",
      "Try using .loc[row_indexer,col_indexer] = value instead\n",
      "\n",
      "See the caveats in the documentation: http://pandas.pydata.org/pandas-docs/stable/indexing.html#indexing-view-versus-copy\n",
      "  \"\"\"\n"
     ]
    }
   ],
   "source": [
    "#add unstemmed product names\n",
    "\n",
    "medianfacts['product_name'] = medianfacts.index\n",
    "allmedianfacts['product_name'] = allmedianfacts.index\n",
    "usualfood['product_name'] = usualfood.processed_name\n",
    "food['product_name'] = food.processed_name"
   ]
  },
  {
   "cell_type": "code",
   "execution_count": 87,
   "metadata": {
    "colab": {},
    "colab_type": "code",
    "id": "gHoMEyqBfe01"
   },
   "outputs": [],
   "source": [
    "medianfacts.to_parquet('medianfacts.parquet', compression='GZIP')\n",
    "allmedianfacts.to_parquet('allmedianfacts.parquet', compression='GZIP')\n"
   ]
  },
  {
   "cell_type": "markdown",
   "metadata": {},
   "source": [
    "# Chargement des données traitées"
   ]
  },
  {
   "cell_type": "code",
   "execution_count": 3,
   "metadata": {},
   "outputs": [],
   "source": [
    "medianfacts = pd.read_parquet('medianfacts.parquet')\n",
    "allmedianfacts = pd.read_parquet('allmedianfacts.parquet')"
   ]
  },
  {
   "cell_type": "markdown",
   "metadata": {
    "colab_type": "text",
    "id": "8GUZykL1M7Lp"
   },
   "source": [
    "# Requêtes"
   ]
  },
  {
   "cell_type": "code",
   "execution_count": 4,
   "metadata": {},
   "outputs": [
    {
     "data": {
      "text/html": [
       "<div>\n",
       "<style scoped>\n",
       "    .dataframe tbody tr th:only-of-type {\n",
       "        vertical-align: middle;\n",
       "    }\n",
       "\n",
       "    .dataframe tbody tr th {\n",
       "        vertical-align: top;\n",
       "    }\n",
       "\n",
       "    .dataframe thead th {\n",
       "        text-align: right;\n",
       "    }\n",
       "</style>\n",
       "<table border=\"1\" class=\"dataframe\">\n",
       "  <thead>\n",
       "    <tr style=\"text-align: right;\">\n",
       "      <th>Produit</th>\n",
       "      <th>pomme</th>\n",
       "    </tr>\n",
       "  </thead>\n",
       "  <tbody>\n",
       "    <tr>\n",
       "      <th>Nom</th>\n",
       "      <td>pomme</td>\n",
       "    </tr>\n",
       "    <tr>\n",
       "      <th>kCal/100g</th>\n",
       "      <td>50.6692</td>\n",
       "    </tr>\n",
       "    <tr>\n",
       "      <th>Fibres/100g</th>\n",
       "      <td>1.4</td>\n",
       "    </tr>\n",
       "    <tr>\n",
       "      <th>Graisses/100g</th>\n",
       "      <td>0.1</td>\n",
       "    </tr>\n",
       "    <tr>\n",
       "      <th>Gaisses saturées/100g</th>\n",
       "      <td>0</td>\n",
       "    </tr>\n",
       "    <tr>\n",
       "      <th>Sucre/100g</th>\n",
       "      <td>10.25</td>\n",
       "    </tr>\n",
       "    <tr>\n",
       "      <th>Protéines/100g</th>\n",
       "      <td>0.3</td>\n",
       "    </tr>\n",
       "    <tr>\n",
       "      <th>Sel/100g</th>\n",
       "      <td>0.01</td>\n",
       "    </tr>\n",
       "    <tr>\n",
       "      <th>Sodium/100g</th>\n",
       "      <td>0.004</td>\n",
       "    </tr>\n",
       "    <tr>\n",
       "      <th>Additifs</th>\n",
       "      <td>0</td>\n",
       "    </tr>\n",
       "    <tr>\n",
       "      <th>Ingrédients dérivés de l'huile de palme</th>\n",
       "      <td>0</td>\n",
       "    </tr>\n",
       "    <tr>\n",
       "      <th>Ingrédients potentiellement dérivés de l'huile de palme</th>\n",
       "      <td>0</td>\n",
       "    </tr>\n",
       "    <tr>\n",
       "      <th>Nutriscore</th>\n",
       "      <td>-1</td>\n",
       "    </tr>\n",
       "    <tr>\n",
       "      <th>Nova-group</th>\n",
       "      <td>1</td>\n",
       "    </tr>\n",
       "    <tr>\n",
       "      <th>Weight (estimated)</th>\n",
       "      <td>275</td>\n",
       "    </tr>\n",
       "  </tbody>\n",
       "</table>\n",
       "</div>"
      ],
      "text/plain": [
       "Produit                                               pomme\n",
       "Nom                                                   pomme\n",
       "kCal/100g                                           50.6692\n",
       "Fibres/100g                                             1.4\n",
       "Graisses/100g                                           0.1\n",
       "Gaisses saturées/100g                                     0\n",
       "Sucre/100g                                            10.25\n",
       "Protéines/100g                                          0.3\n",
       "Sel/100g                                               0.01\n",
       "Sodium/100g                                           0.004\n",
       "Additifs                                                  0\n",
       "Ingrédients dérivés de l'huile de palme                   0\n",
       "Ingrédients potentiellement dérivés de l'huile ...        0\n",
       "Nutriscore                                               -1\n",
       "Nova-group                                                1\n",
       "Weight (estimated)                                      275"
      ]
     },
     "execution_count": 4,
     "metadata": {},
     "output_type": "execute_result"
    }
   ],
   "source": [
    "analyser = ReceipeAnalyzer()\n",
    "analyser.valeurs_nutritionnelles('pomme', pretty = True)"
   ]
  },
  {
   "cell_type": "code",
   "execution_count": 5,
   "metadata": {
    "colab": {},
    "colab_type": "code",
    "id": "WMEKx7XDTC6E"
   },
   "outputs": [
    {
     "data": {
      "text/html": [
       "<div>\n",
       "<style scoped>\n",
       "    .dataframe tbody tr th:only-of-type {\n",
       "        vertical-align: middle;\n",
       "    }\n",
       "\n",
       "    .dataframe tbody tr th {\n",
       "        vertical-align: top;\n",
       "    }\n",
       "\n",
       "    .dataframe thead th {\n",
       "        text-align: right;\n",
       "    }\n",
       "</style>\n",
       "<table border=\"1\" class=\"dataframe\">\n",
       "  <thead>\n",
       "    <tr style=\"text-align: right;\">\n",
       "      <th>Produit</th>\n",
       "      <th>chocolat</th>\n",
       "    </tr>\n",
       "  </thead>\n",
       "  <tbody>\n",
       "    <tr>\n",
       "      <th>Nom</th>\n",
       "      <td>chocolat</td>\n",
       "    </tr>\n",
       "    <tr>\n",
       "      <th>kCal/100g</th>\n",
       "      <td>545.889</td>\n",
       "    </tr>\n",
       "    <tr>\n",
       "      <th>Fibres/100g</th>\n",
       "      <td>2</td>\n",
       "    </tr>\n",
       "    <tr>\n",
       "      <th>Graisses/100g</th>\n",
       "      <td>35</td>\n",
       "    </tr>\n",
       "    <tr>\n",
       "      <th>Gaisses saturées/100g</th>\n",
       "      <td>20</td>\n",
       "    </tr>\n",
       "    <tr>\n",
       "      <th>Sucre/100g</th>\n",
       "      <td>43</td>\n",
       "    </tr>\n",
       "    <tr>\n",
       "      <th>Protéines/100g</th>\n",
       "      <td>6.8</td>\n",
       "    </tr>\n",
       "    <tr>\n",
       "      <th>Sel/100g</th>\n",
       "      <td>0.14</td>\n",
       "    </tr>\n",
       "    <tr>\n",
       "      <th>Sodium/100g</th>\n",
       "      <td>0.056</td>\n",
       "    </tr>\n",
       "    <tr>\n",
       "      <th>Additifs</th>\n",
       "      <td>1</td>\n",
       "    </tr>\n",
       "    <tr>\n",
       "      <th>Ingrédients dérivés de l'huile de palme</th>\n",
       "      <td>0</td>\n",
       "    </tr>\n",
       "    <tr>\n",
       "      <th>Ingrédients potentiellement dérivés de l'huile de palme</th>\n",
       "      <td>0</td>\n",
       "    </tr>\n",
       "    <tr>\n",
       "      <th>Nutriscore</th>\n",
       "      <td>25</td>\n",
       "    </tr>\n",
       "    <tr>\n",
       "      <th>Nova-group</th>\n",
       "      <td>4</td>\n",
       "    </tr>\n",
       "    <tr>\n",
       "      <th>Weight (estimated)</th>\n",
       "      <td>140</td>\n",
       "    </tr>\n",
       "  </tbody>\n",
       "</table>\n",
       "</div>"
      ],
      "text/plain": [
       "Produit                                             chocolat\n",
       "Nom                                                 chocolat\n",
       "kCal/100g                                            545.889\n",
       "Fibres/100g                                                2\n",
       "Graisses/100g                                             35\n",
       "Gaisses saturées/100g                                     20\n",
       "Sucre/100g                                                43\n",
       "Protéines/100g                                           6.8\n",
       "Sel/100g                                                0.14\n",
       "Sodium/100g                                            0.056\n",
       "Additifs                                                   1\n",
       "Ingrédients dérivés de l'huile de palme                    0\n",
       "Ingrédients potentiellement dérivés de l'huile ...         0\n",
       "Nutriscore                                                25\n",
       "Nova-group                                                 4\n",
       "Weight (estimated)                                       140"
      ]
     },
     "metadata": {},
     "output_type": "display_data"
    },
    {
     "data": {
      "text/html": [
       "<div>\n",
       "<style scoped>\n",
       "    .dataframe tbody tr th:only-of-type {\n",
       "        vertical-align: middle;\n",
       "    }\n",
       "\n",
       "    .dataframe tbody tr th {\n",
       "        vertical-align: top;\n",
       "    }\n",
       "\n",
       "    .dataframe thead th {\n",
       "        text-align: right;\n",
       "    }\n",
       "</style>\n",
       "<table border=\"1\" class=\"dataframe\">\n",
       "  <thead>\n",
       "    <tr style=\"text-align: right;\">\n",
       "      <th>Produit</th>\n",
       "      <th>pomme</th>\n",
       "    </tr>\n",
       "  </thead>\n",
       "  <tbody>\n",
       "    <tr>\n",
       "      <th>Nom</th>\n",
       "      <td>pomme</td>\n",
       "    </tr>\n",
       "    <tr>\n",
       "      <th>kCal/100g</th>\n",
       "      <td>50.6692</td>\n",
       "    </tr>\n",
       "    <tr>\n",
       "      <th>Fibres/100g</th>\n",
       "      <td>1.4</td>\n",
       "    </tr>\n",
       "    <tr>\n",
       "      <th>Graisses/100g</th>\n",
       "      <td>0.1</td>\n",
       "    </tr>\n",
       "    <tr>\n",
       "      <th>Gaisses saturées/100g</th>\n",
       "      <td>0</td>\n",
       "    </tr>\n",
       "    <tr>\n",
       "      <th>Sucre/100g</th>\n",
       "      <td>10.25</td>\n",
       "    </tr>\n",
       "    <tr>\n",
       "      <th>Protéines/100g</th>\n",
       "      <td>0.3</td>\n",
       "    </tr>\n",
       "    <tr>\n",
       "      <th>Sel/100g</th>\n",
       "      <td>0.01</td>\n",
       "    </tr>\n",
       "    <tr>\n",
       "      <th>Sodium/100g</th>\n",
       "      <td>0.004</td>\n",
       "    </tr>\n",
       "    <tr>\n",
       "      <th>Additifs</th>\n",
       "      <td>0</td>\n",
       "    </tr>\n",
       "    <tr>\n",
       "      <th>Ingrédients dérivés de l'huile de palme</th>\n",
       "      <td>0</td>\n",
       "    </tr>\n",
       "    <tr>\n",
       "      <th>Ingrédients potentiellement dérivés de l'huile de palme</th>\n",
       "      <td>0</td>\n",
       "    </tr>\n",
       "    <tr>\n",
       "      <th>Nutriscore</th>\n",
       "      <td>-1</td>\n",
       "    </tr>\n",
       "    <tr>\n",
       "      <th>Nova-group</th>\n",
       "      <td>1</td>\n",
       "    </tr>\n",
       "    <tr>\n",
       "      <th>Weight (estimated)</th>\n",
       "      <td>275</td>\n",
       "    </tr>\n",
       "  </tbody>\n",
       "</table>\n",
       "</div>"
      ],
      "text/plain": [
       "Produit                                               pomme\n",
       "Nom                                                   pomme\n",
       "kCal/100g                                           50.6692\n",
       "Fibres/100g                                             1.4\n",
       "Graisses/100g                                           0.1\n",
       "Gaisses saturées/100g                                     0\n",
       "Sucre/100g                                            10.25\n",
       "Protéines/100g                                          0.3\n",
       "Sel/100g                                               0.01\n",
       "Sodium/100g                                           0.004\n",
       "Additifs                                                  0\n",
       "Ingrédients dérivés de l'huile de palme                   0\n",
       "Ingrédients potentiellement dérivés de l'huile ...        0\n",
       "Nutriscore                                               -1\n",
       "Nova-group                                                1\n",
       "Weight (estimated)                                      275"
      ]
     },
     "metadata": {},
     "output_type": "display_data"
    },
    {
     "data": {
      "text/html": [
       "<div>\n",
       "<style scoped>\n",
       "    .dataframe tbody tr th:only-of-type {\n",
       "        vertical-align: middle;\n",
       "    }\n",
       "\n",
       "    .dataframe tbody tr th {\n",
       "        vertical-align: top;\n",
       "    }\n",
       "\n",
       "    .dataframe thead th {\n",
       "        text-align: right;\n",
       "    }\n",
       "</style>\n",
       "<table border=\"1\" class=\"dataframe\">\n",
       "  <thead>\n",
       "    <tr style=\"text-align: right;\">\n",
       "      <th>Produit</th>\n",
       "      <th>tomate</th>\n",
       "    </tr>\n",
       "  </thead>\n",
       "  <tbody>\n",
       "    <tr>\n",
       "      <th>Nom</th>\n",
       "      <td>tomate</td>\n",
       "    </tr>\n",
       "    <tr>\n",
       "      <th>kCal/100g</th>\n",
       "      <td>21.0325</td>\n",
       "    </tr>\n",
       "    <tr>\n",
       "      <th>Fibres/100g</th>\n",
       "      <td>0.8</td>\n",
       "    </tr>\n",
       "    <tr>\n",
       "      <th>Graisses/100g</th>\n",
       "      <td>0.2</td>\n",
       "    </tr>\n",
       "    <tr>\n",
       "      <th>Gaisses saturées/100g</th>\n",
       "      <td>0</td>\n",
       "    </tr>\n",
       "    <tr>\n",
       "      <th>Sucre/100g</th>\n",
       "      <td>3.2</td>\n",
       "    </tr>\n",
       "    <tr>\n",
       "      <th>Protéines/100g</th>\n",
       "      <td>0.91</td>\n",
       "    </tr>\n",
       "    <tr>\n",
       "      <th>Sel/100g</th>\n",
       "      <td>0.3</td>\n",
       "    </tr>\n",
       "    <tr>\n",
       "      <th>Sodium/100g</th>\n",
       "      <td>0.12</td>\n",
       "    </tr>\n",
       "    <tr>\n",
       "      <th>Additifs</th>\n",
       "      <td>0</td>\n",
       "    </tr>\n",
       "    <tr>\n",
       "      <th>Ingrédients dérivés de l'huile de palme</th>\n",
       "      <td>0</td>\n",
       "    </tr>\n",
       "    <tr>\n",
       "      <th>Ingrédients potentiellement dérivés de l'huile de palme</th>\n",
       "      <td>0</td>\n",
       "    </tr>\n",
       "    <tr>\n",
       "      <th>Nutriscore</th>\n",
       "      <td>-4</td>\n",
       "    </tr>\n",
       "    <tr>\n",
       "      <th>Nova-group</th>\n",
       "      <td>3</td>\n",
       "    </tr>\n",
       "    <tr>\n",
       "      <th>Weight (estimated)</th>\n",
       "      <td>550</td>\n",
       "    </tr>\n",
       "  </tbody>\n",
       "</table>\n",
       "</div>"
      ],
      "text/plain": [
       "Produit                                              tomate\n",
       "Nom                                                  tomate\n",
       "kCal/100g                                           21.0325\n",
       "Fibres/100g                                             0.8\n",
       "Graisses/100g                                           0.2\n",
       "Gaisses saturées/100g                                     0\n",
       "Sucre/100g                                              3.2\n",
       "Protéines/100g                                         0.91\n",
       "Sel/100g                                                0.3\n",
       "Sodium/100g                                            0.12\n",
       "Additifs                                                  0\n",
       "Ingrédients dérivés de l'huile de palme                   0\n",
       "Ingrédients potentiellement dérivés de l'huile ...        0\n",
       "Nutriscore                                               -4\n",
       "Nova-group                                                3\n",
       "Weight (estimated)                                      550"
      ]
     },
     "metadata": {},
     "output_type": "display_data"
    }
   ],
   "source": [
    "valeurs_nutritionnelles = lambda x: display(analyser.valeurs_nutritionnelles(x, pretty = True))\n",
    "unit_tests = [\"chocolat\", \"Pommes\", \"tomates\"]\n",
    "for u in unit_tests:\n",
    "    valeurs_nutritionnelles(u)"
   ]
  },
  {
   "cell_type": "markdown",
   "metadata": {},
   "source": [
    "# Extraction de poids unitaires approximés\n",
    "\n",
    "Pour chaque élément du tableau \"medianfacts\" (reprenant les information nutritionnelles médianes de produits \"usuels\"), nous extrayons des estimations\n",
    "des poids unitaires."
   ]
  },
  {
   "cell_type": "code",
   "execution_count": 3,
   "metadata": {},
   "outputs": [
    {
     "data": {
      "text/plain": [
       "([\"15 févr. 2017 ... c'est la taille et par conséquent le poids des plombs et votre manière ... on gravite ici dans des ordres du centième de grammes et aussi dans\\xa0...\",\n",
       "  \"la pêche-nectarine est le 7e fruit le plus consommé en france. originaire d'asie ... une pêche pèse 150 grammes en moyenne. sa peau lisse ou ... pêche poids\\xa0...\",\n",
       "  \"4 mai 2016 ... lbs », le sigle pour décrypter la puissance de votre canne à pêche ... lbs est le sigle de l'unité de mesure anglaise pour évaluer le poids de ... que je peux lancer n'importe quel leurre jusqu'à 150 gramme techniquement? je\\xa0...\",\n",
       "  'dans le milieu de la pêche, nous sommes très souvent confrontés à des unités de ... vous pouvez donc pendre un poids de 1132 g au bout de votre canne sans\\xa0...',\n",
       "  'grammes. fruits. en kg. en grammes. artichaut. 0.300. 300. abricot. 0.045. 45 ... pamplemousse. 0.400. 400. p. de terre (grosse). 0.320. 320. pêche. 0.150.',\n",
       "  '24 févr. 2015 ... calculateur des poids styl. taille pds du flotteur marquage du flotteur equilibrage réel equil. approximatif no.7 0.010g 4x7 0.040g\\xa0...',\n",
       "  \"... masse nécessaire pour ajuster l'équilibrage) est exprimée en grammes sur le ... exemple 2 : montage pour la pêche des poissons blancs à l'asticot en étang\\xa0...\",\n",
       "  \"plombs anglais les plombs pour la pêche à l'anglaise sont numérotés ssg, aaa ... le poids, l'action parabolique, pointe , la puissance en grammes ou en livres\\xa0...\",\n",
       "  \"avec ce montage, la profondeur de pêche est limitée à la longueur de la canne. ... le bouchon coulissant de 5 à 15 grammes ... hameçon tombe au fond de l'eau emmené par la masse volumique du plomb olive plus grande que celle de l'eau.\",\n",
       "  'poids, plombs et bombettes carpe pour la pêche - ✅ achetez une variété de produits à ... 17 plombs carpe bombe 70/80/90/100 g couleur et grammage au choix.'],\n",
       " array([150.]),\n",
       " array([5.]),\n",
       " 150.0,\n",
       " 150.0,\n",
       " 150.0,\n",
       " 150.0)"
      ]
     },
     "execution_count": 3,
     "metadata": {},
     "output_type": "execute_result"
    }
   ],
   "source": [
    "\n",
    "#unit_tests on food weight estimation\n",
    "queries = ['pomme','poire','peche']\n",
    "outputs = [NU.query_food_weight(q, no_delay=True) for q in queries]\n",
    "outputs[-1]"
   ]
  },
  {
   "cell_type": "code",
   "execution_count": 4,
   "metadata": {},
   "outputs": [
    {
     "data": {
      "text/plain": [
       "150.0"
      ]
     },
     "execution_count": 4,
     "metadata": {},
     "output_type": "execute_result"
    }
   ],
   "source": [
    "#return: descs, nums, conf, mostconfident, med, ramp[best], mode2\n",
    "out = NU.query_food_weight('pomme', no_delay=True)\n",
    "#median: out[4]\n",
    "#most probable: out[3]\n",
    "out[3]"
   ]
  },
  {
   "cell_type": "code",
   "execution_count": 4,
   "metadata": {},
   "outputs": [
    {
     "name": "stdout",
     "output_type": "stream",
     "text": [
      "8469/8470\n"
     ]
    }
   ],
   "source": [
    "#data augmentation: add two columns (two different weight estimation algirthms) for each product\n",
    "\n",
    "from tqdm import tqdm as progress\n",
    "from IPython.display import clear_output\n",
    "\n",
    "cols = ['unit_weight_estimate', 'unit_weight_estimate2']\n",
    "\n",
    "out_ids = [4,3]\n",
    "\n",
    "#force reinit\n",
    "#medianfacts[colname] = None\n",
    "\n",
    "medianfacts = pd.read_parquet('medianfacts.parquet')\n",
    "\n",
    "#initialize columns if needed\n",
    "for c in cols:\n",
    "    if not c in medianfacts.columns:\n",
    "        medianfacts[c] = -1\n",
    "\n",
    "\n",
    "for idx, i in zip(medianfacts.index,range(len(medianfacts))):\n",
    "    \n",
    "    clear_output()\n",
    "    print(\"%d/%d\" % (i, len(medianfacts)))\n",
    "    \n",
    "    try:    \n",
    "        product = medianfacts.loc[idx]\n",
    "        \n",
    "        #perform query only if product was not yet processed\n",
    "        incomplete = False\n",
    "        for c in cols:\n",
    "            #optional: np.isnan(...) to reprocess missed queries\n",
    "            if product[c] == -1 or np.isnan(product[c]):\n",
    "                incomplete = True\n",
    "                break\n",
    "        \n",
    "        if incomplete:\n",
    "\n",
    "            name = product.product_name\n",
    "            out = NU.query_food_weight(name, no_delay=True, verbose = 0)\n",
    "            if (len(out) <= 5):\n",
    "                medianfacts.loc[idx,cols] = np.nan\n",
    "                #pbar.write(\"%s %s NAN\" % (idx, i))\n",
    "            else:\n",
    "                medianfacts.loc[idx,cols] = [out[o] for o in out_ids]\n",
    "            \n",
    "            \n",
    "        else:\n",
    "            #print(i, end=\"\")\n",
    "            pass\n",
    "        \n",
    "    except Exception as e:\n",
    "        \n",
    "        \n",
    "        print(idx, i, e)\n",
    "        \n",
    "        medianfacts.loc[idx,cols] = -1\n",
    "        medianfacts.to_parquet('medianfacts.parquet', compression = 'GZIP')\n",
    "        raise Exception(e)\n",
    "    \n",
    "    \n",
    "    if (i >= 200) and (i % 200 == 0):\n",
    "        medianfacts.to_parquet('medianfacts.parquet', compression = 'GZIP')\n",
    "\n",
    "medianfacts.to_parquet('medianfacts.parquet', compression = 'GZIP')"
   ]
  },
  {
   "cell_type": "markdown",
   "metadata": {},
   "source": [
    "# Validation/vérification des poids"
   ]
  },
  {
   "cell_type": "code",
   "execution_count": 23,
   "metadata": {},
   "outputs": [
    {
     "name": "stdout",
     "output_type": "stream",
     "text": [
      "3526 677 406\n"
     ]
    },
    {
     "data": {
      "text/html": [
       "<div>\n",
       "<style scoped>\n",
       "    .dataframe tbody tr th:only-of-type {\n",
       "        vertical-align: middle;\n",
       "    }\n",
       "\n",
       "    .dataframe tbody tr th {\n",
       "        vertical-align: top;\n",
       "    }\n",
       "\n",
       "    .dataframe thead th {\n",
       "        text-align: right;\n",
       "    }\n",
       "</style>\n",
       "<table border=\"1\" class=\"dataframe\">\n",
       "  <thead>\n",
       "    <tr style=\"text-align: right;\">\n",
       "      <th></th>\n",
       "      <th>unit_weight_estimate</th>\n",
       "      <th>unit_weight_estimate2</th>\n",
       "    </tr>\n",
       "    <tr>\n",
       "      <th>processed_name</th>\n",
       "      <th></th>\n",
       "      <th></th>\n",
       "    </tr>\n",
       "  </thead>\n",
       "  <tbody>\n",
       "    <tr>\n",
       "      <th>abricot moelleu</th>\n",
       "      <td>500.500</td>\n",
       "      <td>1.000</td>\n",
       "    </tr>\n",
       "    <tr>\n",
       "      <th>aceite oliva virgen</th>\n",
       "      <td>1.000</td>\n",
       "      <td>5.000</td>\n",
       "    </tr>\n",
       "    <tr>\n",
       "      <th>activia muesli</th>\n",
       "      <td>1.101</td>\n",
       "      <td>1.101</td>\n",
       "    </tr>\n",
       "    <tr>\n",
       "      <th>allumette fumee</th>\n",
       "      <td>1.000</td>\n",
       "      <td>1.000</td>\n",
       "    </tr>\n",
       "    <tr>\n",
       "      <th>almond milk</th>\n",
       "      <td>1.500</td>\n",
       "      <td>1.000</td>\n",
       "    </tr>\n",
       "    <tr>\n",
       "      <th>altramuce</th>\n",
       "      <td>10.500</td>\n",
       "      <td>1.500</td>\n",
       "    </tr>\n",
       "    <tr>\n",
       "      <th>amande crue</th>\n",
       "      <td>1.000</td>\n",
       "      <td>1.000</td>\n",
       "    </tr>\n",
       "    <tr>\n",
       "      <th>amande decortique</th>\n",
       "      <td>1.000</td>\n",
       "      <td>1.000</td>\n",
       "    </tr>\n",
       "    <tr>\n",
       "      <th>amande decortiquee</th>\n",
       "      <td>1.500</td>\n",
       "      <td>1.000</td>\n",
       "    </tr>\n",
       "    <tr>\n",
       "      <th>amande emondee</th>\n",
       "      <td>1.500</td>\n",
       "      <td>1.500</td>\n",
       "    </tr>\n",
       "    <tr>\n",
       "      <th>amande provence</th>\n",
       "      <td>1.700</td>\n",
       "      <td>150.000</td>\n",
       "    </tr>\n",
       "    <tr>\n",
       "      <th>anana en morceau jus anana</th>\n",
       "      <td>1.230</td>\n",
       "      <td>1.230</td>\n",
       "    </tr>\n",
       "    <tr>\n",
       "      <th>aneth</th>\n",
       "      <td>1.500</td>\n",
       "      <td>1.500</td>\n",
       "    </tr>\n",
       "    <tr>\n",
       "      <th>anneau calamar</th>\n",
       "      <td>1.000</td>\n",
       "      <td>1.000</td>\n",
       "    </tr>\n",
       "    <tr>\n",
       "      <th>aperi'croq</th>\n",
       "      <td>205.000</td>\n",
       "      <td>1.650</td>\n",
       "    </tr>\n",
       "    <tr>\n",
       "      <th>arborio</th>\n",
       "      <td>100.000</td>\n",
       "      <td>1.000</td>\n",
       "    </tr>\n",
       "    <tr>\n",
       "      <th>arome</th>\n",
       "      <td>250.000</td>\n",
       "      <td>1.040</td>\n",
       "    </tr>\n",
       "    <tr>\n",
       "      <th>assiette charcuterie</th>\n",
       "      <td>5.500</td>\n",
       "      <td>0.750</td>\n",
       "    </tr>\n",
       "    <tr>\n",
       "      <th>aubergine cuisinee provencale</th>\n",
       "      <td>11.000</td>\n",
       "      <td>1.000</td>\n",
       "    </tr>\n",
       "    <tr>\n",
       "      <th>avoine calcium</th>\n",
       "      <td>1.530</td>\n",
       "      <td>2.060</td>\n",
       "    </tr>\n",
       "    <tr>\n",
       "      <th>bacon dinde</th>\n",
       "      <td>10.000</td>\n",
       "      <td>1.900</td>\n",
       "    </tr>\n",
       "    <tr>\n",
       "      <th>bagel</th>\n",
       "      <td>85.000</td>\n",
       "      <td>1.000</td>\n",
       "    </tr>\n",
       "    <tr>\n",
       "      <th>bagel sesame</th>\n",
       "      <td>250.000</td>\n",
       "      <td>1.900</td>\n",
       "    </tr>\n",
       "    <tr>\n",
       "      <th>banane cavendish bio</th>\n",
       "      <td>100.000</td>\n",
       "      <td>1.000</td>\n",
       "    </tr>\n",
       "    <tr>\n",
       "      <th>barre proteine</th>\n",
       "      <td>1.600</td>\n",
       "      <td>1.600</td>\n",
       "    </tr>\n",
       "    <tr>\n",
       "      <th>batonnet glace</th>\n",
       "      <td>1.000</td>\n",
       "      <td>1.000</td>\n",
       "    </tr>\n",
       "    <tr>\n",
       "      <th>beignet</th>\n",
       "      <td>60.000</td>\n",
       "      <td>1.900</td>\n",
       "    </tr>\n",
       "    <tr>\n",
       "      <th>beignet abricot</th>\n",
       "      <td>1.900</td>\n",
       "      <td>1.900</td>\n",
       "    </tr>\n",
       "    <tr>\n",
       "      <th>beignet chocolat</th>\n",
       "      <td>5.950</td>\n",
       "      <td>1.900</td>\n",
       "    </tr>\n",
       "    <tr>\n",
       "      <th>beignet chocolat</th>\n",
       "      <td>5.950</td>\n",
       "      <td>1.900</td>\n",
       "    </tr>\n",
       "    <tr>\n",
       "      <th>...</th>\n",
       "      <td>...</td>\n",
       "      <td>...</td>\n",
       "    </tr>\n",
       "    <tr>\n",
       "      <th>terrine bretonne</th>\n",
       "      <td>3.360</td>\n",
       "      <td>1.200</td>\n",
       "    </tr>\n",
       "    <tr>\n",
       "      <th>terrine campagne bretonne label rouge</th>\n",
       "      <td>90.935</td>\n",
       "      <td>1.870</td>\n",
       "    </tr>\n",
       "    <tr>\n",
       "      <th>terrine lapin pruneau</th>\n",
       "      <td>77.000</td>\n",
       "      <td>1.000</td>\n",
       "    </tr>\n",
       "    <tr>\n",
       "      <th>tomate farcie</th>\n",
       "      <td>105.000</td>\n",
       "      <td>1.000</td>\n",
       "    </tr>\n",
       "    <tr>\n",
       "      <th>tortelloni</th>\n",
       "      <td>28.000</td>\n",
       "      <td>1.101</td>\n",
       "    </tr>\n",
       "    <tr>\n",
       "      <th>tortilla ble</th>\n",
       "      <td>10.000</td>\n",
       "      <td>1.000</td>\n",
       "    </tr>\n",
       "    <tr>\n",
       "      <th>tripou auvergne</th>\n",
       "      <td>400.000</td>\n",
       "      <td>0.540</td>\n",
       "    </tr>\n",
       "    <tr>\n",
       "      <th>tutti frutti</th>\n",
       "      <td>12.400</td>\n",
       "      <td>0.800</td>\n",
       "    </tr>\n",
       "    <tr>\n",
       "      <th>veggie</th>\n",
       "      <td>13.900</td>\n",
       "      <td>0.800</td>\n",
       "    </tr>\n",
       "    <tr>\n",
       "      <th>veggie burger</th>\n",
       "      <td>1.000</td>\n",
       "      <td>1.000</td>\n",
       "    </tr>\n",
       "    <tr>\n",
       "      <th>veloute carotte</th>\n",
       "      <td>1.000</td>\n",
       "      <td>3.000</td>\n",
       "    </tr>\n",
       "    <tr>\n",
       "      <th>veloute legume bio</th>\n",
       "      <td>1.000</td>\n",
       "      <td>1.000</td>\n",
       "    </tr>\n",
       "    <tr>\n",
       "      <th>viennoise</th>\n",
       "      <td>120.000</td>\n",
       "      <td>1.900</td>\n",
       "    </tr>\n",
       "    <tr>\n",
       "      <th>vinaigre</th>\n",
       "      <td>100.000</td>\n",
       "      <td>1.000</td>\n",
       "    </tr>\n",
       "    <tr>\n",
       "      <th>vinaigre cidre</th>\n",
       "      <td>375.500</td>\n",
       "      <td>1.000</td>\n",
       "    </tr>\n",
       "    <tr>\n",
       "      <th>virgin mojito</th>\n",
       "      <td>2.000</td>\n",
       "      <td>1.000</td>\n",
       "    </tr>\n",
       "    <tr>\n",
       "      <th>viva</th>\n",
       "      <td>5.000</td>\n",
       "      <td>1.000</td>\n",
       "    </tr>\n",
       "    <tr>\n",
       "      <th>whey arken</th>\n",
       "      <td>1.200</td>\n",
       "      <td>1.000</td>\n",
       "    </tr>\n",
       "    <tr>\n",
       "      <th>whey harder</th>\n",
       "      <td>20.000</td>\n",
       "      <td>1.000</td>\n",
       "    </tr>\n",
       "    <tr>\n",
       "      <th>whey native</th>\n",
       "      <td>1.200</td>\n",
       "      <td>1.000</td>\n",
       "    </tr>\n",
       "    <tr>\n",
       "      <th>yaourt brasse alpe</th>\n",
       "      <td>125.500</td>\n",
       "      <td>1.000</td>\n",
       "    </tr>\n",
       "    <tr>\n",
       "      <th>yaourt brasse fruit mixe</th>\n",
       "      <td>4.000</td>\n",
       "      <td>1.000</td>\n",
       "    </tr>\n",
       "    <tr>\n",
       "      <th>yaourt fruit avec morceau</th>\n",
       "      <td>4.000</td>\n",
       "      <td>1.000</td>\n",
       "    </tr>\n",
       "    <tr>\n",
       "      <th>yaourt grec fage total</th>\n",
       "      <td>85.500</td>\n",
       "      <td>1.000</td>\n",
       "    </tr>\n",
       "    <tr>\n",
       "      <th>yaourt grecque nature</th>\n",
       "      <td>4.000</td>\n",
       "      <td>1.000</td>\n",
       "    </tr>\n",
       "    <tr>\n",
       "      <th>yaourt grecque sur lit fruit</th>\n",
       "      <td>1.000</td>\n",
       "      <td>1.000</td>\n",
       "    </tr>\n",
       "    <tr>\n",
       "      <th>yaourt noix coco</th>\n",
       "      <td>14.500</td>\n",
       "      <td>1.000</td>\n",
       "    </tr>\n",
       "    <tr>\n",
       "      <th>yaourt sucre</th>\n",
       "      <td>1.000</td>\n",
       "      <td>1.000</td>\n",
       "    </tr>\n",
       "    <tr>\n",
       "      <th>yaourt sucre canne</th>\n",
       "      <td>1.000</td>\n",
       "      <td>1.000</td>\n",
       "    </tr>\n",
       "    <tr>\n",
       "      <th>zumo naranja</th>\n",
       "      <td>130.000</td>\n",
       "      <td>1.000</td>\n",
       "    </tr>\n",
       "  </tbody>\n",
       "</table>\n",
       "<p>406 rows × 2 columns</p>\n",
       "</div>"
      ],
      "text/plain": [
       "                                       unit_weight_estimate  \\\n",
       "processed_name                                                \n",
       "abricot moelleu                                     500.500   \n",
       "aceite oliva virgen                                   1.000   \n",
       "activia muesli                                        1.101   \n",
       "allumette fumee                                       1.000   \n",
       "almond milk                                           1.500   \n",
       "altramuce                                            10.500   \n",
       "amande crue                                           1.000   \n",
       "amande decortique                                     1.000   \n",
       "amande decortiquee                                    1.500   \n",
       "amande emondee                                        1.500   \n",
       "amande provence                                       1.700   \n",
       "anana en morceau jus anana                            1.230   \n",
       "aneth                                                 1.500   \n",
       "anneau calamar                                        1.000   \n",
       "aperi'croq                                          205.000   \n",
       "arborio                                             100.000   \n",
       "arome                                               250.000   \n",
       "assiette charcuterie                                  5.500   \n",
       "aubergine cuisinee provencale                        11.000   \n",
       "avoine calcium                                        1.530   \n",
       "bacon dinde                                          10.000   \n",
       "bagel                                                85.000   \n",
       "bagel sesame                                        250.000   \n",
       "banane cavendish bio                                100.000   \n",
       "barre proteine                                        1.600   \n",
       "batonnet glace                                        1.000   \n",
       "beignet                                              60.000   \n",
       "beignet abricot                                       1.900   \n",
       "beignet chocolat                                      5.950   \n",
       "beignet chocolat                                      5.950   \n",
       "...                                                     ...   \n",
       "terrine bretonne                                      3.360   \n",
       "terrine campagne bretonne label rouge                90.935   \n",
       "terrine lapin pruneau                                77.000   \n",
       "tomate farcie                                       105.000   \n",
       "tortelloni                                           28.000   \n",
       "tortilla ble                                         10.000   \n",
       "tripou auvergne                                     400.000   \n",
       "tutti frutti                                         12.400   \n",
       "veggie                                               13.900   \n",
       "veggie burger                                         1.000   \n",
       "veloute carotte                                       1.000   \n",
       "veloute legume bio                                    1.000   \n",
       "viennoise                                           120.000   \n",
       "vinaigre                                            100.000   \n",
       "vinaigre cidre                                      375.500   \n",
       "virgin mojito                                         2.000   \n",
       "viva                                                  5.000   \n",
       "whey arken                                            1.200   \n",
       "whey harder                                          20.000   \n",
       "whey native                                           1.200   \n",
       "yaourt brasse alpe                                  125.500   \n",
       "yaourt brasse fruit mixe                              4.000   \n",
       "yaourt fruit avec morceau                             4.000   \n",
       "yaourt grec fage total                               85.500   \n",
       "yaourt grecque nature                                 4.000   \n",
       "yaourt grecque sur lit fruit                          1.000   \n",
       "yaourt noix coco                                     14.500   \n",
       "yaourt sucre                                          1.000   \n",
       "yaourt sucre canne                                    1.000   \n",
       "zumo naranja                                        130.000   \n",
       "\n",
       "                                       unit_weight_estimate2  \n",
       "processed_name                                                \n",
       "abricot moelleu                                        1.000  \n",
       "aceite oliva virgen                                    5.000  \n",
       "activia muesli                                         1.101  \n",
       "allumette fumee                                        1.000  \n",
       "almond milk                                            1.000  \n",
       "altramuce                                              1.500  \n",
       "amande crue                                            1.000  \n",
       "amande decortique                                      1.000  \n",
       "amande decortiquee                                     1.000  \n",
       "amande emondee                                         1.500  \n",
       "amande provence                                      150.000  \n",
       "anana en morceau jus anana                             1.230  \n",
       "aneth                                                  1.500  \n",
       "anneau calamar                                         1.000  \n",
       "aperi'croq                                             1.650  \n",
       "arborio                                                1.000  \n",
       "arome                                                  1.040  \n",
       "assiette charcuterie                                   0.750  \n",
       "aubergine cuisinee provencale                          1.000  \n",
       "avoine calcium                                         2.060  \n",
       "bacon dinde                                            1.900  \n",
       "bagel                                                  1.000  \n",
       "bagel sesame                                           1.900  \n",
       "banane cavendish bio                                   1.000  \n",
       "barre proteine                                         1.600  \n",
       "batonnet glace                                         1.000  \n",
       "beignet                                                1.900  \n",
       "beignet abricot                                        1.900  \n",
       "beignet chocolat                                       1.900  \n",
       "beignet chocolat                                       1.900  \n",
       "...                                                      ...  \n",
       "terrine bretonne                                       1.200  \n",
       "terrine campagne bretonne label rouge                  1.870  \n",
       "terrine lapin pruneau                                  1.000  \n",
       "tomate farcie                                          1.000  \n",
       "tortelloni                                             1.101  \n",
       "tortilla ble                                           1.000  \n",
       "tripou auvergne                                        0.540  \n",
       "tutti frutti                                           0.800  \n",
       "veggie                                                 0.800  \n",
       "veggie burger                                          1.000  \n",
       "veloute carotte                                        3.000  \n",
       "veloute legume bio                                     1.000  \n",
       "viennoise                                              1.900  \n",
       "vinaigre                                               1.000  \n",
       "vinaigre cidre                                         1.000  \n",
       "virgin mojito                                          1.000  \n",
       "viva                                                   1.000  \n",
       "whey arken                                             1.000  \n",
       "whey harder                                            1.000  \n",
       "whey native                                            1.000  \n",
       "yaourt brasse alpe                                     1.000  \n",
       "yaourt brasse fruit mixe                               1.000  \n",
       "yaourt fruit avec morceau                              1.000  \n",
       "yaourt grec fage total                                 1.000  \n",
       "yaourt grecque nature                                  1.000  \n",
       "yaourt grecque sur lit fruit                           1.000  \n",
       "yaourt noix coco                                       1.000  \n",
       "yaourt sucre                                           1.000  \n",
       "yaourt sucre canne                                     1.000  \n",
       "zumo naranja                                           1.000  \n",
       "\n",
       "[406 rows x 2 columns]"
      ]
     },
     "execution_count": 23,
     "metadata": {},
     "output_type": "execute_result"
    }
   ],
   "source": [
    "#produits ayant des estimations divergentes\n",
    "\n",
    "divergent = medianfacts[(medianfacts.unit_weight_estimate-medianfacts.unit_weight_estimate2).abs()>0.2*medianfacts[['unit_weight_estimate','unit_weight_estimate2']].min(axis=1)]\n",
    "heavy = medianfacts[medianfacts[['unit_weight_estimate','unit_weight_estimate2']].max(axis=1) > 1000]\n",
    "light = medianfacts[medianfacts[['unit_weight_estimate','unit_weight_estimate2']].min(axis=1) < 2]\n",
    "print(len(divergent), len(heavy), len(light))\n",
    "\n",
    "light[['unit_weight_estimate','unit_weight_estimate2']].to_csv('light_products.csv')\n",
    "heavy[['unit_weight_estimate','unit_weight_estimate2']].to_csv('heavy_products.csv')\n",
    "light[['unit_weight_estimate','unit_weight_estimate2']]\n",
    "\n",
    "#ok, heavy: ananas, volaille"
   ]
  },
  {
   "cell_type": "markdown",
   "metadata": {},
   "source": [
    "# Chargement des données traitées"
   ]
  },
  {
   "cell_type": "code",
   "execution_count": 3,
   "metadata": {},
   "outputs": [],
   "source": [
    "medianfacts = pd.read_parquet('medianfacts.parquet')\n",
    "allmedianfacts = pd.read_parquet('allmedianfacts.parquet')"
   ]
  },
  {
   "cell_type": "markdown",
   "metadata": {
    "colab_type": "text",
    "id": "8iXFTFP6r08B"
   },
   "source": [
    "# Recette ?"
   ]
  },
  {
   "cell_type": "code",
   "execution_count": 4,
   "metadata": {},
   "outputs": [],
   "source": [
    "analyser = ReceipeAnalyzer()"
   ]
  },
  {
   "cell_type": "code",
   "execution_count": 8,
   "metadata": {
    "colab": {
     "base_uri": "https://localhost:8080/",
     "height": 269
    },
    "colab_type": "code",
    "executionInfo": {
     "elapsed": 494,
     "status": "ok",
     "timestamp": 1565022704500,
     "user": {
      "displayName": "Mickael Tits",
      "photoUrl": "",
      "userId": "16831298815026516305"
     },
     "user_tz": -120
    },
    "id": "qAMQtOr5r3Ji",
    "outputId": "96e4dc64-5d9e-4cdf-cbd5-75581d4af2a2"
   },
   "outputs": [
    {
     "data": {
      "text/html": [
       "<div>\n",
       "<style scoped>\n",
       "    .dataframe tbody tr th:only-of-type {\n",
       "        vertical-align: middle;\n",
       "    }\n",
       "\n",
       "    .dataframe tbody tr th {\n",
       "        vertical-align: top;\n",
       "    }\n",
       "\n",
       "    .dataframe thead th {\n",
       "        text-align: right;\n",
       "    }\n",
       "</style>\n",
       "<table border=\"1\" class=\"dataframe\">\n",
       "  <thead>\n",
       "    <tr style=\"text-align: right;\">\n",
       "      <th></th>\n",
       "      <th>ingredients</th>\n",
       "      <th>unit</th>\n",
       "      <th>qty</th>\n",
       "    </tr>\n",
       "  </thead>\n",
       "  <tbody>\n",
       "    <tr>\n",
       "      <th>0</th>\n",
       "      <td>spaghettis</td>\n",
       "      <td>g</td>\n",
       "      <td>125.00</td>\n",
       "    </tr>\n",
       "    <tr>\n",
       "      <th>1</th>\n",
       "      <td>oignon</td>\n",
       "      <td>g</td>\n",
       "      <td>25.00</td>\n",
       "    </tr>\n",
       "    <tr>\n",
       "      <th>2</th>\n",
       "      <td>gousses d'ail</td>\n",
       "      <td>g</td>\n",
       "      <td>2.50</td>\n",
       "    </tr>\n",
       "    <tr>\n",
       "      <th>3</th>\n",
       "      <td>carotte</td>\n",
       "      <td>g</td>\n",
       "      <td>31.25</td>\n",
       "    </tr>\n",
       "    <tr>\n",
       "      <th>4</th>\n",
       "      <td>branche de céleri</td>\n",
       "      <td>g</td>\n",
       "      <td>7.50</td>\n",
       "    </tr>\n",
       "    <tr>\n",
       "      <th>5</th>\n",
       "      <td>tomate</td>\n",
       "      <td>g</td>\n",
       "      <td>212.50</td>\n",
       "    </tr>\n",
       "    <tr>\n",
       "      <th>6</th>\n",
       "      <td>boeuf haché</td>\n",
       "      <td>g</td>\n",
       "      <td>125.00</td>\n",
       "    </tr>\n",
       "  </tbody>\n",
       "</table>\n",
       "</div>"
      ],
      "text/plain": [
       "         ingredients unit     qty\n",
       "0         spaghettis    g  125.00\n",
       "1             oignon    g   25.00\n",
       "2      gousses d'ail    g    2.50\n",
       "3            carotte    g   31.25\n",
       "4  branche de céleri    g    7.50\n",
       "5             tomate    g  212.50\n",
       "6        boeuf haché    g  125.00"
      ]
     },
     "execution_count": 8,
     "metadata": {},
     "output_type": "execute_result"
    }
   ],
   "source": [
    "\n",
    "recette = {'ingredients':['spaghettis', 'oignon',\"gousses d'ail\",\"carotte\",\"branche de céleri\",\"tomate\",\"boeuf haché\"],\n",
    "          \"unit\":[\"g\",\"u\",\"u\",\"u\",\"u\",\"g\",\"g\"],\n",
    "           \"qty\":[500,1,2,1,1,850,500]\n",
    "          }\n",
    "\n",
    "#quantité indiquée en grammes\n",
    "recetteg = {'ingredients':['spaghettis', 'oignon',\"gousses d'ail\",\"carotte\",\"branche de céleri\",\"tomate\",\"boeuf haché\"],\n",
    "            \"unit\":[\"g\",\"g\",\"g\",\"g\",\"g\",\"g\",\"g\"],\n",
    "           \"qty\":[500,100,10,125,30,850,500]\n",
    "          }\n",
    "\n",
    "#recetteg = {'ingredients':['spaghettis', 'oignon',\"ail\",\"carotte\",\"branche de céleri\",\"tomate\",\"boeuf haché\"],         \n",
    "#           \"qty\":[500,100,10,125,30,850,500]\n",
    "#          }\n",
    "\n",
    "nb_pers = 4\n",
    "\n",
    "\n",
    "recettedf = pd.DataFrame(recette)\n",
    "#adapt to quantities for one person\n",
    "recettedf.qty = recettedf.qty/nb_pers\n",
    "recettedf\n",
    "\n",
    "recettedfg = pd.DataFrame(recetteg)\n",
    "#adapt to quantities for one person\n",
    "recettedfg.qty = recettedfg.qty/nb_pers\n",
    "recettedfg\n",
    "\n"
   ]
  },
  {
   "cell_type": "code",
   "execution_count": 14,
   "metadata": {},
   "outputs": [
    {
     "name": "stdout",
     "output_type": "stream",
     "text": [
      "elapsed: %.2f 12.108556747436523\n"
     ]
    },
    {
     "data": {
      "text/html": [
       "<div>\n",
       "<style scoped>\n",
       "    .dataframe tbody tr th:only-of-type {\n",
       "        vertical-align: middle;\n",
       "    }\n",
       "\n",
       "    .dataframe tbody tr th {\n",
       "        vertical-align: top;\n",
       "    }\n",
       "\n",
       "    .dataframe thead th {\n",
       "        text-align: right;\n",
       "    }\n",
       "</style>\n",
       "<table border=\"1\" class=\"dataframe\">\n",
       "  <thead>\n",
       "    <tr style=\"text-align: right;\">\n",
       "      <th></th>\n",
       "      <th>0</th>\n",
       "    </tr>\n",
       "  </thead>\n",
       "  <tbody>\n",
       "    <tr>\n",
       "      <th>qty</th>\n",
       "      <td>576.25</td>\n",
       "    </tr>\n",
       "    <tr>\n",
       "      <th>weighted_score</th>\n",
       "      <td>-2.13883</td>\n",
       "    </tr>\n",
       "    <tr>\n",
       "      <th>weighted_grade</th>\n",
       "      <td>1.32538</td>\n",
       "    </tr>\n",
       "    <tr>\n",
       "      <th>cal</th>\n",
       "      <td>693.284</td>\n",
       "    </tr>\n",
       "  </tbody>\n",
       "</table>\n",
       "</div>"
      ],
      "text/plain": [
       "                      0\n",
       "qty              576.25\n",
       "weighted_score -2.13883\n",
       "weighted_grade  1.32538\n",
       "cal             693.284"
      ]
     },
     "metadata": {},
     "output_type": "display_data"
    },
    {
     "name": "stdout",
     "output_type": "stream",
     "text": [
      "elapsed: %.2f 0.8620009422302246\n"
     ]
    },
    {
     "data": {
      "text/html": [
       "<div>\n",
       "<style scoped>\n",
       "    .dataframe tbody tr th:only-of-type {\n",
       "        vertical-align: middle;\n",
       "    }\n",
       "\n",
       "    .dataframe tbody tr th {\n",
       "        vertical-align: top;\n",
       "    }\n",
       "\n",
       "    .dataframe thead th {\n",
       "        text-align: right;\n",
       "    }\n",
       "</style>\n",
       "<table border=\"1\" class=\"dataframe\">\n",
       "  <thead>\n",
       "    <tr style=\"text-align: right;\">\n",
       "      <th></th>\n",
       "      <th>0</th>\n",
       "    </tr>\n",
       "  </thead>\n",
       "  <tbody>\n",
       "    <tr>\n",
       "      <th>qty</th>\n",
       "      <td>528.75</td>\n",
       "    </tr>\n",
       "    <tr>\n",
       "      <th>weighted_score</th>\n",
       "      <td>-2.64539</td>\n",
       "    </tr>\n",
       "    <tr>\n",
       "      <th>weighted_grade</th>\n",
       "      <td>1.17494</td>\n",
       "    </tr>\n",
       "    <tr>\n",
       "      <th>cal</th>\n",
       "      <td>670.465</td>\n",
       "    </tr>\n",
       "  </tbody>\n",
       "</table>\n",
       "</div>"
      ],
      "text/plain": [
       "                      0\n",
       "qty              528.75\n",
       "weighted_score -2.64539\n",
       "weighted_grade  1.17494\n",
       "cal             670.465"
      ]
     },
     "metadata": {},
     "output_type": "display_data"
    }
   ],
   "source": [
    "beg = time.time()\n",
    "out = analyser.analyze(recettedf)\n",
    "print('elapsed: %.2f', time.time()-beg)\n",
    "display(out[['qty','weighted_score','weighted_grade','cal']].to_frame())\n",
    "\n",
    "beg = time.time()\n",
    "out = analyser.analyze(recettedfg)\n",
    "print('elapsed: %.2f', time.time()-beg)\n",
    "display(out[['qty','weighted_score','weighted_grade','cal']].to_frame())"
   ]
  },
  {
   "cell_type": "code",
   "execution_count": 15,
   "metadata": {
    "colab": {
     "base_uri": "https://localhost:8080/",
     "height": 36
    },
    "colab_type": "code",
    "executionInfo": {
     "elapsed": 686,
     "status": "ok",
     "timestamp": 1565022709289,
     "user": {
      "displayName": "Mickael Tits",
      "photoUrl": "",
      "userId": "16831298815026516305"
     },
     "user_tz": -120
    },
    "id": "QdOW6hOZ0rUS",
    "outputId": "0574ff6c-c6f9-4503-a8ed-340cf3bc17bf"
   },
   "outputs": [
    {
     "data": {
      "text/plain": [
       "(nan, 5.0, 2.0)"
      ]
     },
     "execution_count": 15,
     "metadata": {},
     "output_type": "execute_result"
    }
   ],
   "source": [
    "\n",
    "#get nutritive facts for each ingredient\n",
    "def get_values(query):\n",
    "  \n",
    "  out = analyser.valeurs_nutritionnelles(query, quiet = True)\n",
    "  if len(out) == 0:\n",
    "    #add a line of Nans\n",
    "    out = out.append(pd.Series(), ignore_index=True)\n",
    "  \n",
    "  return out.iloc[0]\n",
    "  \n",
    "#out = recettedf.ingredients.apply(get_values)\n",
    "\n",
    "get_values('boeuf haché').nutriscore_grade,\\\n",
    "get_values('chocolat').nutriscore_grade,\\\n",
    "get_values('tomates').nutriscore_grade"
   ]
  },
  {
   "cell_type": "code",
   "execution_count": 16,
   "metadata": {
    "colab": {
     "base_uri": "https://localhost:8080/",
     "height": 110
    },
    "colab_type": "code",
    "executionInfo": {
     "elapsed": 1793,
     "status": "ok",
     "timestamp": 1565022714637,
     "user": {
      "displayName": "Mickael Tits",
      "photoUrl": "",
      "userId": "16831298815026516305"
     },
     "user_tz": -120
    },
    "id": "EpGaI9iu9wxM",
    "outputId": "dd00ff77-965e-4b29-cb10-4faf46b186aa"
   },
   "outputs": [],
   "source": [
    "out = recettedf.ingredients.apply(get_values)\n",
    "recettedf2 = pd.concat([recettedf,out], axis=1)\n",
    "recettedf2['cal_100g'] = recettedf2.energy_100g*J_to_cal\n",
    "recettedf2['cal'] = recettedf2.qty*recettedf2.energy_100g/100*J_to_cal\n",
    "recettedf2['weighted_score'] = recettedf2['nutrition-score-fr_100g']*recettedf2.qty/(recettedf2.qty).sum()\n",
    "recettedf2['weighted_grade'] = recettedf2.nutriscore_grade*recettedf2.qty/(recettedf2.qty).sum()\n",
    "\n",
    "\n",
    "recettedf2.cal\n",
    "#recettedf2.weighted_score\n",
    "\n",
    "result = recettedf2.sum()\n"
   ]
  },
  {
   "cell_type": "code",
   "execution_count": 17,
   "metadata": {},
   "outputs": [
    {
     "data": {
      "text/html": [
       "<div>\n",
       "<style scoped>\n",
       "    .dataframe tbody tr th:only-of-type {\n",
       "        vertical-align: middle;\n",
       "    }\n",
       "\n",
       "    .dataframe tbody tr th {\n",
       "        vertical-align: top;\n",
       "    }\n",
       "\n",
       "    .dataframe thead th {\n",
       "        text-align: right;\n",
       "    }\n",
       "</style>\n",
       "<table border=\"1\" class=\"dataframe\">\n",
       "  <thead>\n",
       "    <tr style=\"text-align: right;\">\n",
       "      <th></th>\n",
       "      <th>ingredients</th>\n",
       "      <th>product_name</th>\n",
       "      <th>qty</th>\n",
       "      <th>nutrition-score-fr_100g</th>\n",
       "      <th>weighted_score</th>\n",
       "      <th>nutriscore_grade</th>\n",
       "      <th>weighted_grade</th>\n",
       "      <th>cal</th>\n",
       "      <th>cal_100g</th>\n",
       "    </tr>\n",
       "  </thead>\n",
       "  <tbody>\n",
       "    <tr>\n",
       "      <th>0</th>\n",
       "      <td>spaghettis</td>\n",
       "      <td>spaghetti</td>\n",
       "      <td>125.00</td>\n",
       "      <td>-2.0</td>\n",
       "      <td>-0.539084</td>\n",
       "      <td>1.0</td>\n",
       "      <td>0.269542</td>\n",
       "      <td>443.355641</td>\n",
       "      <td>354.684512</td>\n",
       "    </tr>\n",
       "    <tr>\n",
       "      <th>1</th>\n",
       "      <td>oignon</td>\n",
       "      <td>oignon</td>\n",
       "      <td>0.25</td>\n",
       "      <td>-5.0</td>\n",
       "      <td>-0.002695</td>\n",
       "      <td>1.0</td>\n",
       "      <td>0.000539</td>\n",
       "      <td>0.077677</td>\n",
       "      <td>31.070746</td>\n",
       "    </tr>\n",
       "    <tr>\n",
       "      <th>2</th>\n",
       "      <td>gousses d'ail</td>\n",
       "      <td>gousse ail</td>\n",
       "      <td>0.50</td>\n",
       "      <td>3.5</td>\n",
       "      <td>0.003774</td>\n",
       "      <td>3.0</td>\n",
       "      <td>0.003235</td>\n",
       "      <td>0.240201</td>\n",
       "      <td>48.040153</td>\n",
       "    </tr>\n",
       "    <tr>\n",
       "      <th>3</th>\n",
       "      <td>carotte</td>\n",
       "      <td>carotte</td>\n",
       "      <td>0.25</td>\n",
       "      <td>-5.0</td>\n",
       "      <td>-0.002695</td>\n",
       "      <td>1.0</td>\n",
       "      <td>0.000539</td>\n",
       "      <td>0.081262</td>\n",
       "      <td>32.504780</td>\n",
       "    </tr>\n",
       "    <tr>\n",
       "      <th>4</th>\n",
       "      <td>branche de céleri</td>\n",
       "      <td>epinard en branche creme</td>\n",
       "      <td>0.25</td>\n",
       "      <td>-3.5</td>\n",
       "      <td>-0.001887</td>\n",
       "      <td>1.0</td>\n",
       "      <td>0.000539</td>\n",
       "      <td>0.105163</td>\n",
       "      <td>42.065010</td>\n",
       "    </tr>\n",
       "    <tr>\n",
       "      <th>5</th>\n",
       "      <td>tomate</td>\n",
       "      <td>tomate</td>\n",
       "      <td>212.50</td>\n",
       "      <td>-4.0</td>\n",
       "      <td>-1.832884</td>\n",
       "      <td>2.0</td>\n",
       "      <td>0.916442</td>\n",
       "      <td>44.694073</td>\n",
       "      <td>21.032505</td>\n",
       "    </tr>\n",
       "    <tr>\n",
       "      <th>6</th>\n",
       "      <td>boeuf haché</td>\n",
       "      <td>boeuf hache</td>\n",
       "      <td>125.00</td>\n",
       "      <td>NaN</td>\n",
       "      <td>NaN</td>\n",
       "      <td>NaN</td>\n",
       "      <td>NaN</td>\n",
       "      <td>160.133843</td>\n",
       "      <td>128.107075</td>\n",
       "    </tr>\n",
       "  </tbody>\n",
       "</table>\n",
       "</div>"
      ],
      "text/plain": [
       "         ingredients              product_name     qty  \\\n",
       "0         spaghettis                 spaghetti  125.00   \n",
       "1             oignon                    oignon    0.25   \n",
       "2      gousses d'ail                gousse ail    0.50   \n",
       "3            carotte                   carotte    0.25   \n",
       "4  branche de céleri  epinard en branche creme    0.25   \n",
       "5             tomate                    tomate  212.50   \n",
       "6        boeuf haché               boeuf hache  125.00   \n",
       "\n",
       "   nutrition-score-fr_100g  weighted_score  nutriscore_grade  weighted_grade  \\\n",
       "0                     -2.0       -0.539084               1.0        0.269542   \n",
       "1                     -5.0       -0.002695               1.0        0.000539   \n",
       "2                      3.5        0.003774               3.0        0.003235   \n",
       "3                     -5.0       -0.002695               1.0        0.000539   \n",
       "4                     -3.5       -0.001887               1.0        0.000539   \n",
       "5                     -4.0       -1.832884               2.0        0.916442   \n",
       "6                      NaN             NaN               NaN             NaN   \n",
       "\n",
       "          cal    cal_100g  \n",
       "0  443.355641  354.684512  \n",
       "1    0.077677   31.070746  \n",
       "2    0.240201   48.040153  \n",
       "3    0.081262   32.504780  \n",
       "4    0.105163   42.065010  \n",
       "5   44.694073   21.032505  \n",
       "6  160.133843  128.107075  "
      ]
     },
     "execution_count": 17,
     "metadata": {},
     "output_type": "execute_result"
    }
   ],
   "source": [
    "recettedf2[['ingredients','product_name','qty','nutrition-score-fr_100g','weighted_score','nutriscore_grade','weighted_grade','cal','cal_100g']]\n"
   ]
  },
  {
   "cell_type": "code",
   "execution_count": 18,
   "metadata": {},
   "outputs": [
    {
     "data": {
      "text/html": [
       "<div>\n",
       "<style scoped>\n",
       "    .dataframe tbody tr th:only-of-type {\n",
       "        vertical-align: middle;\n",
       "    }\n",
       "\n",
       "    .dataframe tbody tr th {\n",
       "        vertical-align: top;\n",
       "    }\n",
       "\n",
       "    .dataframe thead th {\n",
       "        text-align: right;\n",
       "    }\n",
       "</style>\n",
       "<table border=\"1\" class=\"dataframe\">\n",
       "  <thead>\n",
       "    <tr style=\"text-align: right;\">\n",
       "      <th></th>\n",
       "      <th>0</th>\n",
       "    </tr>\n",
       "  </thead>\n",
       "  <tbody>\n",
       "    <tr>\n",
       "      <th>qty</th>\n",
       "      <td>463.75</td>\n",
       "    </tr>\n",
       "    <tr>\n",
       "      <th>weighted_score</th>\n",
       "      <td>-2.37547</td>\n",
       "    </tr>\n",
       "    <tr>\n",
       "      <th>weighted_grade</th>\n",
       "      <td>1.19084</td>\n",
       "    </tr>\n",
       "    <tr>\n",
       "      <th>cal</th>\n",
       "      <td>648.688</td>\n",
       "    </tr>\n",
       "  </tbody>\n",
       "</table>\n",
       "</div>"
      ],
      "text/plain": [
       "                      0\n",
       "qty              463.75\n",
       "weighted_score -2.37547\n",
       "weighted_grade  1.19084\n",
       "cal             648.688"
      ]
     },
     "execution_count": 18,
     "metadata": {},
     "output_type": "execute_result"
    }
   ],
   "source": [
    "result[['qty','weighted_score','weighted_grade','cal']].to_frame()"
   ]
  },
  {
   "cell_type": "code",
   "execution_count": null,
   "metadata": {},
   "outputs": [],
   "source": []
  }
 ],
 "metadata": {
  "colab": {
   "collapsed_sections": [],
   "name": "openfoodfacts_analysis.ipynb",
   "provenance": [],
   "toc_visible": true,
   "version": "0.3.2"
  },
  "kernelspec": {
   "display_name": "walecities",
   "language": "python",
   "name": "walecities"
  },
  "language_info": {
   "codemirror_mode": {
    "name": "ipython",
    "version": 3
   },
   "file_extension": ".py",
   "mimetype": "text/x-python",
   "name": "python",
   "nbconvert_exporter": "python",
   "pygments_lexer": "ipython3",
   "version": "3.7.4"
  }
 },
 "nbformat": 4,
 "nbformat_minor": 4
}
